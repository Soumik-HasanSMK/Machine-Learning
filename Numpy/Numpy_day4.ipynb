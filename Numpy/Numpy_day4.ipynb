{
  "nbformat": 4,
  "nbformat_minor": 0,
  "metadata": {
    "colab": {
      "provenance": []
    },
    "kernelspec": {
      "name": "python3",
      "display_name": "Python 3"
    },
    "language_info": {
      "name": "python"
    }
  },
  "cells": [
    {
      "cell_type": "code",
      "execution_count": 1,
      "metadata": {
        "id": "r3HWZO_qqn7q"
      },
      "outputs": [],
      "source": [
        "import numpy as np"
      ]
    },
    {
      "cell_type": "markdown",
      "source": [
        "# NumPy Joining Array\n",
        "\n",
        "✔ Joining means putting contents of two or more arrays in a single array.\n",
        "\n",
        "✔ In SQL we join tables based on a key, whereas in NumPy we join arrays by axes.\n",
        "\n",
        "✔ We pass a sequence of arrays that we want to join to the concatenate() function, along with the axis. If axis is not explicitly passed, it is taken as 0."
      ],
      "metadata": {
        "id": "FRO7OPeFwZ8v"
      }
    },
    {
      "cell_type": "code",
      "source": [
        "arr1 = np.array([1,2,3,4])\n",
        "arr2 = np.array([5,6,7,8])\n",
        "\n",
        "arr = np.concatenate((arr1, arr2))\n",
        "\n",
        "print(arr)"
      ],
      "metadata": {
        "colab": {
          "base_uri": "https://localhost:8080/"
        },
        "id": "FFC57RsLxMwx",
        "outputId": "a40f0541-369b-4589-ab40-dba5af141d9f"
      },
      "execution_count": 2,
      "outputs": [
        {
          "output_type": "stream",
          "name": "stdout",
          "text": [
            "[1 2 3 4 5 6 7 8]\n"
          ]
        }
      ]
    },
    {
      "cell_type": "code",
      "source": [
        "arr1 = np.array([[1,2],[3,4]])\n",
        "arr2 = np.array([[6,7],[8,9]])\n",
        "\n",
        "arrX = np.concatenate((arr1, arr2))\n",
        "arrY = np.concatenate((arr1, arr2),axis=1)\n",
        "\n",
        "print(arrX)\n",
        "\n",
        "print(\"\\n without axis\")\n",
        "print(arrY)"
      ],
      "metadata": {
        "colab": {
          "base_uri": "https://localhost:8080/"
        },
        "id": "Wu_YiyarxvnP",
        "outputId": "f32d8441-e4c6-4e88-fcc8-696394f56b31"
      },
      "execution_count": 8,
      "outputs": [
        {
          "output_type": "stream",
          "name": "stdout",
          "text": [
            "[[1 2]\n",
            " [3 4]\n",
            " [6 7]\n",
            " [8 9]]\n",
            "\n",
            " without axis\n",
            "[[1 2 6 7]\n",
            " [3 4 8 9]]\n"
          ]
        }
      ]
    },
    {
      "cell_type": "markdown",
      "source": [
        "# Joining Arrays Using Stack Functions\n",
        "✔ Stacking is same as concatenation, the only difference is that stacking is done along a new axis.\n",
        "\n",
        "✔ We can concatenate two 1-D arrays along the second axis which would result in putting them one over the other, ie. stacking.\n",
        "\n",
        "✔ We pass a sequence of arrays that we want to join to the stack() method along with the axis. If axis is not explicitly passed it is taken as 0."
      ],
      "metadata": {
        "id": "tlILnVVk0VBB"
      }
    },
    {
      "cell_type": "code",
      "source": [
        "arr1 = np.array([1,2,3,4])\n",
        "\n",
        "arr2 = np.array([5,6,7,8])\n",
        "\n",
        "arr = np.stack((arr1,arr2), axis=1)\n",
        "\n",
        "print(arr)"
      ],
      "metadata": {
        "colab": {
          "base_uri": "https://localhost:8080/"
        },
        "id": "1udSYYHV0mmZ",
        "outputId": "57a04867-f54a-4b9c-8b3b-ba8d0f1c0c81"
      },
      "execution_count": 16,
      "outputs": [
        {
          "output_type": "stream",
          "name": "stdout",
          "text": [
            "[[1 5]\n",
            " [2 6]\n",
            " [3 7]\n",
            " [4 8]]\n"
          ]
        }
      ]
    },
    {
      "cell_type": "markdown",
      "source": [
        "# NumPy provides a helper function: hstack() to stack along rows."
      ],
      "metadata": {
        "id": "mvEryp2Y4KXF"
      }
    },
    {
      "cell_type": "code",
      "source": [
        "# hstack\n",
        "# represents column as rows\n",
        "arr1 = np.array([1,2,3])\n",
        "arr2 = np.array([4,5,6])\n",
        "\n",
        "arr3 = np.array([[1,2,3],[11,22,33]])\n",
        "arr4 = np.array([[4,5,6],[44,55,66]])\n",
        "\n",
        "arrX = np.hstack((arr1,arr2))  #same as 1-d concatenate\n",
        "arrY = np.hstack((arr3,arr4))\n",
        "\n",
        "print(\"For 1-D array: \", arrX)\n",
        "print(\"For 1-D array: \", arrY)"
      ],
      "metadata": {
        "colab": {
          "base_uri": "https://localhost:8080/"
        },
        "id": "R1rb7uIZ2X2Q",
        "outputId": "c047a848-af98-459c-c3c3-388830d47a6e"
      },
      "execution_count": 17,
      "outputs": [
        {
          "output_type": "stream",
          "name": "stdout",
          "text": [
            "For 1-D array:  [1 2 3 4 5 6]\n",
            "For 1-D array:  [[ 1  2  3  4  5  6]\n",
            " [11 22 33 44 55 66]]\n"
          ]
        }
      ]
    },
    {
      "cell_type": "markdown",
      "source": [
        "# NumPy provides a helper function: vstack()  to stack along columns."
      ],
      "metadata": {
        "id": "01ovTwtQ4M4y"
      }
    },
    {
      "cell_type": "code",
      "source": [
        "# vstack()\n",
        "# Represent rows as columns\n",
        "\n",
        "arr1 = np.array([1,2,3])\n",
        "arr2 = np.array([4,5,6])\n",
        "\n",
        "arr3 = np.array([[1,2,3],[11,22,33]])\n",
        "arr4 = np.array([[4,5,6],[44,55,66]])\n",
        "\n",
        "arrX = np.vstack((arr1, arr2))\n",
        "arrY = np.vstack((arr3, arr4))\n",
        "\n",
        "print(arrX)\n",
        "print(arrY)"
      ],
      "metadata": {
        "colab": {
          "base_uri": "https://localhost:8080/"
        },
        "id": "qedHVM934QKv",
        "outputId": "60195cbb-ae1d-4f98-f66f-faa3369dbed1"
      },
      "execution_count": 18,
      "outputs": [
        {
          "output_type": "stream",
          "name": "stdout",
          "text": [
            "[[1 2 3]\n",
            " [4 5 6]]\n",
            "[[ 1  2  3]\n",
            " [11 22 33]\n",
            " [ 4  5  6]\n",
            " [44 55 66]]\n"
          ]
        }
      ]
    },
    {
      "cell_type": "markdown",
      "source": [
        "# NumPy provides a helper function: dstack() to stack along height, which is the same as depth."
      ],
      "metadata": {
        "id": "NVn9ASh-5lkJ"
      }
    },
    {
      "cell_type": "code",
      "source": [
        "arr1 = np.array([1,2,3])\n",
        "arr2 = np.array([4,5,6])\n",
        "\n",
        "arr3 = np.array([[1,2,3],[11,22,33]])\n",
        "arr4 = np.array([[4,5,6],[44,55,66]])\n",
        "\n",
        "arrX = np.dstack((arr1, arr2))\n",
        "arrY = np.dstack((arr3, arr4))\n",
        "\n",
        "print(\"For 1-D array: \", arrX)\n",
        "print(\"For 2-D array: \\n\", arrY)"
      ],
      "metadata": {
        "colab": {
          "base_uri": "https://localhost:8080/"
        },
        "id": "fR27dqLR5ff9",
        "outputId": "91be98ad-2e6a-40da-af30-9ea80ad9e30e"
      },
      "execution_count": 21,
      "outputs": [
        {
          "output_type": "stream",
          "name": "stdout",
          "text": [
            "For 1-D array:  [[[1 4]\n",
            "  [2 5]\n",
            "  [3 6]]]\n",
            "For 2-D array: \n",
            " [[[ 1  4]\n",
            "  [ 2  5]\n",
            "  [ 3  6]]\n",
            "\n",
            " [[11 44]\n",
            "  [22 55]\n",
            "  [33 66]]]\n"
          ]
        }
      ]
    }
  ]
}