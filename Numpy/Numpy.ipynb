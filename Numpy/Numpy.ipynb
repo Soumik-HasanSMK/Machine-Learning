{
  "nbformat": 4,
  "nbformat_minor": 0,
  "metadata": {
    "colab": {
      "provenance": []
    },
    "kernelspec": {
      "name": "python3",
      "display_name": "Python 3"
    },
    "language_info": {
      "name": "python"
    }
  },
  "cells": [
    {
      "cell_type": "markdown",
      "source": [
        "✅ ১. NumPy কী?\n",
        "\n",
        "NumPy (Numerical Python) হচ্ছে একটি powerful লাইব্রেরি, যেটা দিয়ে numerical computation, array, matrix operation অনেক efficient ও দ্রুত করা যায়।\n",
        "\n",
        "Python-এর list অনেক ধীরগতি, আর NumPy এর array (called ndarray) অনেক দ্রুত (50x faster) এবং memory-efficient।\n",
        "\n"
      ],
      "metadata": {
        "id": "pvxWInInOe_c"
      }
    },
    {
      "cell_type": "markdown",
      "source": [
        " # ARRAY\n",
        "\n",
        "The array object in NumPy is called ndarray, it provides a lot of supporting functions that make working with ndarray very easy."
      ],
      "metadata": {
        "id": "tTn_LT_LO3TM"
      }
    },
    {
      "cell_type": "code",
      "source": [
        "import numpy as np"
      ],
      "metadata": {
        "id": "w0xb9nl4PkbB"
      },
      "execution_count": null,
      "outputs": []
    },
    {
      "cell_type": "markdown",
      "source": [
        "✅ NumPy ndarray Object\n"
      ],
      "metadata": {
        "id": "sWTpo36hOQya"
      }
    },
    {
      "cell_type": "code",
      "source": [
        "arr = np.array([1,2,3,4,5])\n",
        "\n",
        "print(arr)\n",
        "\n",
        "print(type(arr))"
      ],
      "metadata": {
        "colab": {
          "base_uri": "https://localhost:8080/"
        },
        "id": "bb1HXjnYOVqr",
        "outputId": "a38bcf12-dbd8-4501-caf0-62935237a3c7"
      },
      "execution_count": null,
      "outputs": [
        {
          "output_type": "stream",
          "name": "stdout",
          "text": [
            "[1 2 3 4 5]\n",
            "<class 'numpy.ndarray'>\n"
          ]
        }
      ]
    },
    {
      "cell_type": "code",
      "source": [
        "# 0-D Arrays\n",
        "\n",
        "arr0 = np.array(34)\n",
        "print(arr0)"
      ],
      "metadata": {
        "colab": {
          "base_uri": "https://localhost:8080/"
        },
        "id": "5CQ7U9-PO6xP",
        "outputId": "1a595d0a-4910-4757-bf7f-66a711ef0541"
      },
      "execution_count": null,
      "outputs": [
        {
          "output_type": "stream",
          "name": "stdout",
          "text": [
            "34\n"
          ]
        }
      ]
    },
    {
      "cell_type": "code",
      "source": [
        "# 1-D Arrays\n",
        "\n",
        "arr1 = np.array([1,2,3,4,5])\n",
        "print(arr1)"
      ],
      "metadata": {
        "colab": {
          "base_uri": "https://localhost:8080/"
        },
        "id": "RvD0ttOwPMs7",
        "outputId": "97074ebe-bf46-4be8-8dbc-05b3fdbbac80"
      },
      "execution_count": null,
      "outputs": [
        {
          "output_type": "stream",
          "name": "stdout",
          "text": [
            "[1 2 3 4 5]\n"
          ]
        }
      ]
    },
    {
      "cell_type": "code",
      "source": [
        "# 2-D array\n",
        "\n",
        "arr2= np.array([[1,2,3],[4,5,6]])\n",
        "print(arr2)"
      ],
      "metadata": {
        "colab": {
          "base_uri": "https://localhost:8080/"
        },
        "id": "r_qPJrhOQ7Zi",
        "outputId": "24843ffc-4451-4947-f937-782125b221e6"
      },
      "execution_count": null,
      "outputs": [
        {
          "output_type": "stream",
          "name": "stdout",
          "text": [
            "[[1 2 3]\n",
            " [4 5 6]]\n"
          ]
        }
      ]
    },
    {
      "cell_type": "code",
      "source": [
        "# 3-D array\n",
        "\n",
        "# two 2-D arrays, elements number will be same;\n",
        "\n",
        "arr3 = np.array([[[1,2,3],[4,5,6]],[[2,4,6],[4,5,6]]])\n",
        "print(arr3)"
      ],
      "metadata": {
        "colab": {
          "base_uri": "https://localhost:8080/"
        },
        "id": "P-Q7-YU7QoYC",
        "outputId": "bf7397c2-2d67-4444-ed62-f25ea3451742"
      },
      "execution_count": null,
      "outputs": [
        {
          "output_type": "stream",
          "name": "stdout",
          "text": [
            "[[[1 2 3]\n",
            "  [4 5 6]]\n",
            "\n",
            " [[2 4 6]\n",
            "  [4 5 6]]]\n"
          ]
        }
      ]
    },
    {
      "cell_type": "code",
      "source": [
        "# Check Number of Dimensions\n",
        "\n",
        "a = np.array(42)\n",
        "b = np.array([1, 2, 3, 4, 5])\n",
        "c = np.array([[1, 2, 3], [4, 5, 6]])\n",
        "d = np.array([[[1, 2, 3], [4, 5, 6]], [[1, 2, 3], [4, 5, 6]]])\n",
        "\n",
        "print(\"a dimension: \", a.ndim)\n",
        "print(\"b dimension: \", b.ndim)\n",
        "print(\"c dimension: \", c.ndim)\n",
        "print(\"d dimension: \", d.ndim)"
      ],
      "metadata": {
        "colab": {
          "base_uri": "https://localhost:8080/"
        },
        "id": "S5ujICy8Q9jj",
        "outputId": "6dc3c670-56a0-4ac2-9bc7-1ddfa012f82e"
      },
      "execution_count": null,
      "outputs": [
        {
          "output_type": "stream",
          "name": "stdout",
          "text": [
            "a dimension:  0\n",
            "b dimension:  1\n",
            "c dimension:  2\n",
            "d dimension:  3\n"
          ]
        }
      ]
    },
    {
      "cell_type": "markdown",
      "source": [
        "✅ Higher Dimensional Arrays\n",
        "\n",
        "An array can have any number of dimensions."
      ],
      "metadata": {
        "id": "aGUrSzFnTIdA"
      }
    },
    {
      "cell_type": "code",
      "source": [
        "arr= np.array([1,2,3,4,5], ndmin=5)    # 5 dimensional array using \"ndmin\"\n",
        "\n",
        "print(arr)\n",
        "print(\"Number of Dimension: \", arr.ndim)"
      ],
      "metadata": {
        "colab": {
          "base_uri": "https://localhost:8080/"
        },
        "id": "lXEWLecSTsso",
        "outputId": "f7bfc7b7-0c09-4a7d-d2bd-88b9aa2e477b"
      },
      "execution_count": null,
      "outputs": [
        {
          "output_type": "stream",
          "name": "stdout",
          "text": [
            "[[[[[1 2 3 4 5]]]]]\n",
            "Number of Dimension:  5\n"
          ]
        }
      ]
    },
    {
      "cell_type": "markdown",
      "source": [
        "# Array Indexing\n"
      ],
      "metadata": {
        "id": "_Cxlc0TdUpZr"
      }
    },
    {
      "cell_type": "code",
      "source": [
        "arr = np.array([1,2,3,4,5])\n",
        "\n",
        "print(\"First Element: \",arr[0])\n",
        "print(\"Second Element: \",arr[1])\n",
        "print(\"Third Element: \",arr[2])"
      ],
      "metadata": {
        "colab": {
          "base_uri": "https://localhost:8080/"
        },
        "id": "NB-nDDAFYyJQ",
        "outputId": "dd65e89f-45e8-4f2f-b833-9c2018c5823d"
      },
      "execution_count": null,
      "outputs": [
        {
          "output_type": "stream",
          "name": "stdout",
          "text": [
            "First Element:  1\n",
            "Second Element:  2\n",
            "Third Element:  3\n"
          ]
        }
      ]
    },
    {
      "cell_type": "code",
      "source": [
        "# Try to add\n",
        "\n",
        "arr= np.array([2,3,4,5,6])\n",
        "\n",
        "sum = arr[0] + arr[1]\n",
        "\n",
        "print(\"Sum = \", sum)"
      ],
      "metadata": {
        "colab": {
          "base_uri": "https://localhost:8080/"
        },
        "id": "VO4d0rLZZTiB",
        "outputId": "1fb65efb-19f8-4dd0-fd5f-b27740e476ca"
      },
      "execution_count": null,
      "outputs": [
        {
          "output_type": "stream",
          "name": "stdout",
          "text": [
            "Sum =  5\n"
          ]
        }
      ]
    },
    {
      "cell_type": "code",
      "source": [
        "# Access 2-D Arrays\n",
        "\n",
        "arr = np.array([[1,2,3,4,5],[6,7,8,9,10]])\n",
        "\n",
        "print(\"Second element of the 1st row is: \", arr[0,1])\n",
        "print(\"fourth element of the 2nd row is: \", arr[1,3])"
      ],
      "metadata": {
        "colab": {
          "base_uri": "https://localhost:8080/"
        },
        "id": "JQCa5BqMZuJv",
        "outputId": "c476aa8a-c21f-42b3-f0f5-e593a74c7272"
      },
      "execution_count": null,
      "outputs": [
        {
          "output_type": "stream",
          "name": "stdout",
          "text": [
            "Second element of the 1st row is:  2\n",
            "fourth element of the 2nd row is:  9\n"
          ]
        }
      ]
    },
    {
      "cell_type": "code",
      "source": [
        "# Access 3-D Arrays\n",
        "\n",
        "# try to access 2nd element of the 3rd row\n",
        "arr = np.array([[[1,2,3],[4,5,6]],[[7,8,9],[10,11,12]]])\n",
        "\n",
        "print(\"2nd element of the 3rd row: \",arr[1,0,1])"
      ],
      "metadata": {
        "colab": {
          "base_uri": "https://localhost:8080/"
        },
        "id": "hz_VMeiYeCsm",
        "outputId": "7a0e776d-57c3-4cc8-c6b3-6498c1b6d1da"
      },
      "execution_count": null,
      "outputs": [
        {
          "output_type": "stream",
          "name": "stdout",
          "text": [
            "2nd element of the 3rd row:  8\n"
          ]
        }
      ]
    },
    {
      "cell_type": "markdown",
      "source": [
        "#Negative Indexing\n",
        "\n",
        "negative indexing access an array from the end.\n",
        "\n"
      ],
      "metadata": {
        "id": "RX-VwJREfo8z"
      }
    },
    {
      "cell_type": "code",
      "source": [
        "arr = np.array([1,2,3,4,5])\n",
        "print(\"Last Element: \",arr[-1])\n",
        "print(\"Second Last Element: \",arr[-2])"
      ],
      "metadata": {
        "colab": {
          "base_uri": "https://localhost:8080/"
        },
        "id": "enNI2w92fsQr",
        "outputId": "24e92d02-1d12-4d99-c827-7804e51c12fb"
      },
      "execution_count": null,
      "outputs": [
        {
          "output_type": "stream",
          "name": "stdout",
          "text": [
            "Last Element:  5\n",
            "Second Last Element:  4\n"
          ]
        }
      ]
    },
    {
      "cell_type": "code",
      "source": [
        "arr = np.array([[1,2,3,4,5],[6,7,8,9,10]])\n",
        "\n",
        "print(\"Last Element from 2nd row: \",arr[1,-2])  #here, -2 means second last element and 1 means 2nd row that holds index number 1."
      ],
      "metadata": {
        "colab": {
          "base_uri": "https://localhost:8080/"
        },
        "id": "HUz2eLs3lUXl",
        "outputId": "6001ee01-6348-4c9d-e577-78102c9cc472"
      },
      "execution_count": null,
      "outputs": [
        {
          "output_type": "stream",
          "name": "stdout",
          "text": [
            "Last Element from 2nd row:  9\n"
          ]
        }
      ]
    },
    {
      "cell_type": "markdown",
      "source": [
        "# Array Slicing\n",
        "\n",
        "...Slicing in python means taking elements from one given index to another given index.\n",
        "\n",
        "...We pass slice instead of index like this: [start : end].\n",
        "\n",
        "...We can also define the step, like this: [start : end : step].\n",
        "\n",
        "...If we don't pass start its considered 0\n",
        "\n",
        "...If we don't pass end its considered length of array in that dimension\n",
        "\n",
        "...If we don't pass step its considered 1"
      ],
      "metadata": {
        "id": "UZUe71Ndn_2q"
      }
    },
    {
      "cell_type": "code",
      "source": [
        "# 1 to index 5\n",
        "arr = np.array([1, 2, 3, 4, 5, 6, 7, 8])\n",
        "\n",
        "print(\"1 to index 5 : \", arr[1 : 5])  # The result includes the start index, but excludes the end index.\n",
        "\n",
        "print(\"1 to index 5 with step 2 : \", arr[1 : 5 : 2])\n",
        "\n",
        "print(\"First to index 5 : \", arr[ : 5])\n",
        "\n",
        "print(\"index 2 to last : \", arr[2 : ])\n",
        "\n",
        "print(\"index 3 to last with step 2 : \", arr[3: : 2])\n"
      ],
      "metadata": {
        "colab": {
          "base_uri": "https://localhost:8080/"
        },
        "id": "SBCdTyuuoE6i",
        "outputId": "d5927f60-827c-4302-f76e-ca2beb52600b"
      },
      "execution_count": null,
      "outputs": [
        {
          "output_type": "stream",
          "name": "stdout",
          "text": [
            "1 to index 5 :  [2 3 4 5]\n",
            "1 to index 5 with step 2 :  [2 4]\n",
            "First to index 5 :  [1 2 3 4 5]\n",
            "index 2 to last :  [3 4 5 6 7 8]\n",
            "index 3 to last with step 2 :  [4 6 8]\n"
          ]
        }
      ]
    },
    {
      "cell_type": "code",
      "source": [
        "# Negative Slicing\n",
        "\n",
        "arr = np.array([1, 2, 3, 4, 5, 6, 7, 8])\n",
        "\n",
        "print(\"Last 3 elements : \", arr[-3 : ])\n",
        "\n",
        "print(\"Last 3 elements with step 2 : \", arr[-3 : : 2])"
      ],
      "metadata": {
        "colab": {
          "base_uri": "https://localhost:8080/"
        },
        "id": "NrrZVwHBr7Lp",
        "outputId": "296a43e2-c072-444c-9593-021ef8244552"
      },
      "execution_count": null,
      "outputs": [
        {
          "output_type": "stream",
          "name": "stdout",
          "text": [
            "Last 3 elements :  [6 7 8]\n",
            "Last 3 elements with step 2 :  [6 8]\n"
          ]
        }
      ]
    },
    {
      "cell_type": "code",
      "source": [
        "# Slicing 2-D Arrays\n",
        "\n",
        "arr = np.array([[1, 2, 3, 4, 5], [6, 7, 8, 9, 10]])\n",
        "\n",
        "# From the second element, slice elements from index 1 to index 4 (not included)\n",
        "print (arr[1, 1:4])"
      ],
      "metadata": {
        "colab": {
          "base_uri": "https://localhost:8080/"
        },
        "id": "UDSxNw_qtius",
        "outputId": "1c2b9fee-d997-4b51-f84e-19c64af570f9"
      },
      "execution_count": null,
      "outputs": [
        {
          "output_type": "stream",
          "name": "stdout",
          "text": [
            "[7 8 9]\n"
          ]
        }
      ]
    },
    {
      "cell_type": "code",
      "source": [
        "arr= np.array([[1, 2, 3, 4, 5], [6, 7, 8, 9, 10]])\n",
        "\n",
        "# From both elements, return index 2:\n",
        "print(arr[0:2, 2])\n",
        "\n",
        "# From both elements, slice index 1 to index 4 (not included), this will return a 2-D array:\n",
        "print(arr[0:2, 1:4])"
      ],
      "metadata": {
        "colab": {
          "base_uri": "https://localhost:8080/"
        },
        "id": "yqAZERsju83l",
        "outputId": "346b39cb-a892-4199-9286-a9bb8c3dd6da"
      },
      "execution_count": null,
      "outputs": [
        {
          "output_type": "stream",
          "name": "stdout",
          "text": [
            "[3 8]\n",
            "[[2 3 4]\n",
            " [7 8 9]]\n"
          ]
        }
      ]
    },
    {
      "cell_type": "code",
      "source": [
        "#Array-এর তথ্য বের করা\n",
        "\n",
        "print(\"Arr1 size: \", arr1.size)   #array size\n",
        "print(\"Arr2 size: \", arr2.size)\n",
        "\n",
        "print(\"Dimension: \", arr1.ndim)   #dimension\n",
        "print(\"Dimension: \", arr2.ndim)   #dimension\n",
        "\n",
        "print(\"Arr1 shape: \", arr1.shape)  #array shape (প্রতিটি ডাইমেনশনে কত উপাদান)\n",
        "print(\"Arr2 shape: \", arr2.shape)\n",
        "\n",
        "print(\"Type\", arr1.dtype)   #datatype"
      ],
      "metadata": {
        "colab": {
          "base_uri": "https://localhost:8080/"
        },
        "id": "jfaUq7NeRUVi",
        "outputId": "3aeb7bdc-b8e8-4e11-8b91-27fec418e5f4"
      },
      "execution_count": null,
      "outputs": [
        {
          "output_type": "stream",
          "name": "stdout",
          "text": [
            "Arr1 size:  5\n",
            "Arr2 size:  9\n",
            "Dimension:  1\n",
            "Dimension:  2\n",
            "Arr1 shape:  (5,)\n",
            "Arr2 shape:  (3, 3)\n",
            "Type int64\n"
          ]
        }
      ]
    }
  ]
}