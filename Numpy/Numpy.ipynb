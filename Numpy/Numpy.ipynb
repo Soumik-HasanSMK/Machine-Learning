{
  "nbformat": 4,
  "nbformat_minor": 0,
  "metadata": {
    "colab": {
      "provenance": []
    },
    "kernelspec": {
      "name": "python3",
      "display_name": "Python 3"
    },
    "language_info": {
      "name": "python"
    }
  },
  "cells": [
    {
      "cell_type": "markdown",
      "source": [
        "✅ ১. NumPy কী?\n",
        "\n",
        "NumPy (Numerical Python) হচ্ছে একটি powerful লাইব্রেরি, যেটা দিয়ে numerical computation, array, matrix operation অনেক efficient ও দ্রুত করা যায়।\n",
        "\n",
        "Python-এর list অনেক ধীরগতি, আর NumPy এর array (called ndarray) অনেক দ্রুত এবং memory-efficient।\n",
        "\n"
      ],
      "metadata": {
        "id": "pvxWInInOe_c"
      }
    },
    {
      "cell_type": "markdown",
      "source": [
        "ARRAY"
      ],
      "metadata": {
        "id": "tTn_LT_LO3TM"
      }
    },
    {
      "cell_type": "code",
      "source": [
        "import numpy as np"
      ],
      "metadata": {
        "id": "w0xb9nl4PkbB"
      },
      "execution_count": 1,
      "outputs": []
    },
    {
      "cell_type": "code",
      "source": [
        "#1D Array\n",
        "\n",
        "arr1= np.array([1,2,3,4,5]);\n",
        "print(arr1)"
      ],
      "metadata": {
        "colab": {
          "base_uri": "https://localhost:8080/"
        },
        "id": "1XSCfuyfQXlf",
        "outputId": "064277ee-4257-4b3a-f303-3febe0cfbfa7"
      },
      "execution_count": 2,
      "outputs": [
        {
          "output_type": "stream",
          "name": "stdout",
          "text": [
            "[1 2 3 4 5]\n"
          ]
        }
      ]
    },
    {
      "cell_type": "code",
      "source": [
        "#2D array\n",
        "\n",
        "arr2= np.array([[1,2,3],[4,5,6],[7,8,9]])\n",
        "print(arr2)"
      ],
      "metadata": {
        "colab": {
          "base_uri": "https://localhost:8080/"
        },
        "id": "r_qPJrhOQ7Zi",
        "outputId": "4b654542-5735-47c4-eda3-1626730d4d99"
      },
      "execution_count": 5,
      "outputs": [
        {
          "output_type": "stream",
          "name": "stdout",
          "text": [
            "[[1 2 3]\n",
            " [4 5 6]\n",
            " [7 8 9]]\n"
          ]
        }
      ]
    },
    {
      "cell_type": "code",
      "source": [
        "#Array-এর তথ্য বের করা\n",
        "\n",
        "print(\"Arr1 size: \", arr1.size)   #array size\n",
        "print(\"Arr2 size: \", arr2.size)\n",
        "\n",
        "print(\"Dimension: \", arr1.ndim)   #dimension\n",
        "print(\"Dimension: \", arr2.ndim)   #dimension\n",
        "\n",
        "print(\"Arr1 shape: \", arr1.shape)  #array shape (প্রতিটি ডাইমেনশনে কত উপাদান)\n",
        "print(\"Arr2 shape: \", arr2.shape)\n",
        "\n",
        "print(\"Type\", arr1.dtype)   #datatype"
      ],
      "metadata": {
        "colab": {
          "base_uri": "https://localhost:8080/"
        },
        "id": "jfaUq7NeRUVi",
        "outputId": "3aeb7bdc-b8e8-4e11-8b91-27fec418e5f4"
      },
      "execution_count": 11,
      "outputs": [
        {
          "output_type": "stream",
          "name": "stdout",
          "text": [
            "Arr1 size:  5\n",
            "Arr2 size:  9\n",
            "Dimension:  1\n",
            "Dimension:  2\n",
            "Arr1 shape:  (5,)\n",
            "Arr2 shape:  (3, 3)\n",
            "Type int64\n"
          ]
        }
      ]
    },
    {
      "cell_type": "code",
      "source": [],
      "metadata": {
        "id": "OqmIj-4sS5b0"
      },
      "execution_count": null,
      "outputs": []
    }
  ]
}