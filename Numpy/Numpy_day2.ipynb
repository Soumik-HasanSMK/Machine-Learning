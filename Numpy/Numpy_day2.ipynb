{
  "cells": [
    {
      "cell_type": "code",
      "execution_count": 1,
      "metadata": {
        "id": "214b1y1Opdgg"
      },
      "outputs": [],
      "source": [
        "import numpy as np"
      ]
    },
    {
      "cell_type": "markdown",
      "metadata": {
        "id": "V87MXqJup8Co"
      },
      "source": [
        "# Data Types in NumPy\n",
        "The NumPy array object has a property called \"dtype\" that returns the data type of the array\n",
        "\n",
        "Below is a list of all data types in NumPy and the characters used to represent them.\n",
        "\n",
        "    i - integer\n",
        "    b - boolean\n",
        "    u - unsigned integer\n",
        "    f - float\n",
        "    c - complex float\n",
        "    m - timedelta\n",
        "    M - datetime\n",
        "    O - object\n",
        "    S - string\n",
        "    U - unicode string\n",
        "    V - fixed chunk of memory for other type ( void )"
      ]
    },
    {
      "cell_type": "code",
      "execution_count": 2,
      "metadata": {
        "colab": {
          "base_uri": "https://localhost:8080/"
        },
        "id": "JB4EW7PIp5ZI",
        "outputId": "e6202b03-5870-4c2e-baf5-c4823f736eaa"
      },
      "outputs": [
        {
          "name": "stdout",
          "output_type": "stream",
          "text": [
            "Data type of this array is :  int64\n"
          ]
        }
      ],
      "source": [
        "arr = np.array([1,2,3,4,5])\n",
        "\n",
        "print(\"Data type of this array is : \", arr.dtype)"
      ]
    },
    {
      "cell_type": "code",
      "execution_count": 4,
      "metadata": {
        "colab": {
          "base_uri": "https://localhost:8080/"
        },
        "id": "xiBSEHKvrTaL",
        "outputId": "a1a6a381-0794-4950-e71f-4e6683ebe030"
      },
      "outputs": [
        {
          "name": "stdout",
          "output_type": "stream",
          "text": [
            "Data type of this array is :  <U6\n"
          ]
        }
      ],
      "source": [
        "arr=np.array([\"apple\", \"banana\", \"orange\"])\n",
        "\n",
        "print(\"Data type of this array is : \", arr.dtype)"
      ]
    },
    {
      "cell_type": "code",
      "execution_count": 8,
      "metadata": {
        "colab": {
          "base_uri": "https://localhost:8080/"
        },
        "id": "z_bGjWYirhY_",
        "outputId": "dca375c8-2c94-4f1d-a92a-ccf1cf1ce059"
      },
      "outputs": [
        {
          "name": "stdout",
          "output_type": "stream",
          "text": [
            "[b'1' b'2' b'3' b'4' b'5']\n",
            "Data type of this array is :  |S1\n"
          ]
        }
      ],
      "source": [
        "arr = np.array([1,2,3,4,5], dtype=\"S\")\n",
        "\n",
        "print(arr)\n",
        "\n",
        "print(\"Data type of this array is : \", arr.dtype)\n",
        "\n",
        "# b মানে হচ্ছে \"bytes\", অর্থাৎ এই অ্যারে-র প্রতিটি উপাদান হচ্ছে bytes string (byte ধারার স্ট্রিং)।\n",
        "# |S1 = byte string dtype with length 1"
      ]
    },
    {
      "cell_type": "code",
      "execution_count": 10,
      "metadata": {
        "colab": {
          "base_uri": "https://localhost:8080/"
        },
        "id": "_oZKfRyVs6In",
        "outputId": "12f0f30c-4b99-4e9a-f440-8c66bb5df09d"
      },
      "outputs": [
        {
          "name": "stdout",
          "output_type": "stream",
          "text": [
            "[1 2 3 4 5 6]\n",
            "Data type of this array is :  int32\n"
          ]
        }
      ],
      "source": [
        "arr = np.array([1,2,3,4,5,6], dtype=\"i4\")   # 4 byte integer\n",
        "\n",
        "print(arr)\n",
        "print(\"Data type of this array is : \", arr.dtype)"
      ]
    },
    {
      "cell_type": "markdown",
      "metadata": {
        "id": "ZeiaNCOEvw9d"
      },
      "source": [
        "# Converting Data Type on Existing Arrays\n",
        "    The best way to change the data type of an existing array, is to make a copy of the array with the \"astype()\" method.\n",
        "\n",
        "    The \"astype()\" function creates a copy of the array, and allows you to specify the data type as a parameter.\n",
        "\n",
        "    The data type can be specified using a string, like 'f' for float, 'i' for integer etc. or you can use the data type directly like float for float and int for integer."
      ]
    },
    {
      "cell_type": "code",
      "execution_count": 21,
      "metadata": {
        "colab": {
          "base_uri": "https://localhost:8080/"
        },
        "id": "a8yb0g1HyI6M",
        "outputId": "70f142cb-19b5-4d77-ed77-6e68de1d6e9d"
      },
      "outputs": [
        {
          "name": "stdout",
          "output_type": "stream",
          "text": [
            "[1 2 0 4 5]\n",
            "new_arr1 data type:  int32\n",
            "[1. 2. 0. 4. 5.]\n",
            "new_arr2 data type:  float32\n",
            "[ True  True False  True  True]\n",
            "new_arr3 data type:  bool\n"
          ]
        }
      ],
      "source": [
        "arr = np. array([1,2,0,4,5])\n",
        "\n",
        "new_arr1 = arr.astype('i')\n",
        "new_arr2 = arr.astype('f')\n",
        "new_arr3 = arr.astype(bool)\n",
        "\n",
        "print(new_arr1)\n",
        "print(\"new_arr1 data type: \", new_arr1.dtype)\n",
        "print(new_arr2)\n",
        "print(\"new_arr2 data type: \", new_arr2.dtype)\n",
        "print(new_arr3)\n",
        "print(\"new_arr3 data type: \", new_arr3.dtype)\n"
      ]
    },
    {
      "cell_type": "code",
      "execution_count": 20,
      "metadata": {
        "colab": {
          "base_uri": "https://localhost:8080/"
        },
        "id": "F4Ua1JHeygvQ",
        "outputId": "4e962ab7-1fc2-4244-d3f2-1c3be015a6de"
      },
      "outputs": [
        {
          "name": "stdout",
          "output_type": "stream",
          "text": [
            "[1 2 3 4]\n",
            "new_arr data type:  int64\n"
          ]
        }
      ],
      "source": [
        "arr = np.array([1.1, 2.2, 3.3, 4.4])\n",
        "\n",
        "new_arr = arr.astype(int)\n",
        "\n",
        "print(new_arr)\n",
        "print(\"new_arr data type: \", new_arr.dtype)"
      ]
    },
    {
      "cell_type": "markdown",
      "metadata": {
        "id": "IEMsVJgibHvh"
      },
      "source": [
        "# NumPy Array Copy vs View\n",
        "    The main difference between a copy and a view of an array is that the copy is a new array, and the view is just a view of the original array.\n",
        "\n",
        "    The copy owns the data and any changes made to the copy will not affect original array, and any changes made to the original array will not affect the copy.\n",
        "\n",
        "    The view does not own the data and any changes made to the view will affect the original array, and any changes made to the original array will affect the view."
      ]
    },
    {
      "cell_type": "code",
      "execution_count": 2,
      "metadata": {
        "id": "yqY6Hr65c5Jt"
      },
      "outputs": [],
      "source": [
        "import numpy as np"
      ]
    },
    {
      "cell_type": "code",
      "execution_count": 4,
      "metadata": {
        "colab": {
          "base_uri": "https://localhost:8080/"
        },
        "id": "lmt4S-sFcj4a",
        "outputId": "584c4d87-e134-4632-fb40-9637d3b3adbf"
      },
      "outputs": [
        {
          "name": "stdout",
          "output_type": "stream",
          "text": [
            "[42  2  3  4  5  6]\n",
            "[1 2 3 4 5 6]\n"
          ]
        }
      ],
      "source": [
        "arr = np.array([1,2,3,4,5,6])\n",
        "\n",
        "x = arr.copy()\n",
        "\n",
        "arr[0] = 42\n",
        "\n",
        "print(arr)\n",
        "print(x)"
      ]
    },
    {
      "cell_type": "code",
      "execution_count": 5,
      "metadata": {
        "colab": {
          "base_uri": "https://localhost:8080/"
        },
        "id": "8jEmNLZsdNkW",
        "outputId": "52269235-c23d-4e69-fb1b-9f18dcf28aef"
      },
      "outputs": [
        {
          "name": "stdout",
          "output_type": "stream",
          "text": [
            "[34  2  3  4  5]\n",
            "[34  2  3  4  5]\n"
          ]
        }
      ],
      "source": [
        "# View\n",
        "\n",
        "arr = np.array([1,2,3,4,5])\n",
        "\n",
        "x = arr.view()\n",
        "\n",
        "arr[0]= 34\n",
        "\n",
        "print(arr)\n",
        "print(x)"
      ]
    },
    {
      "cell_type": "markdown",
      "metadata": {
        "id": "W44sqUoBecx5"
      },
      "source": [
        "    Every NumPy array has the attribute base that returns None if the array owns the data.\n",
        "\n",
        "    Otherwise, the base  attribute refers to the original object."
      ]
    },
    {
      "cell_type": "code",
      "execution_count": 6,
      "metadata": {
        "colab": {
          "base_uri": "https://localhost:8080/"
        },
        "id": "IE3EXhLteBy6",
        "outputId": "6ef37058-ca4b-4160-85de-917bbbfd04c8"
      },
      "outputs": [
        {
          "name": "stdout",
          "output_type": "stream",
          "text": [
            "[1 2 3 4 5]\n",
            "None\n"
          ]
        }
      ],
      "source": [
        "arr = np.array([1,2,3,4,5])\n",
        "\n",
        "x = arr.view()\n",
        "y = arr.copy()\n",
        "\n",
        "print(x.base)\n",
        "print(y.base)"
      ]
    },
    {
      "cell_type": "markdown",
      "metadata": {
        "id": "Ia0aT8vkiqqA"
      },
      "source": [
        "# Shape of an Array\n",
        "The shape of an array is the number of elements in each dimension. like the size of matrix (m*n)"
      ]
    },
    {
      "cell_type": "code",
      "execution_count": 9,
      "metadata": {
        "colab": {
          "base_uri": "https://localhost:8080/"
        },
        "id": "4C000xJ9i2b4",
        "outputId": "1de0a4e5-fc3e-4ab4-edef-c9330b77291a"
      },
      "outputs": [
        {
          "name": "stdout",
          "output_type": "stream",
          "text": [
            "It's Shape is:  (2, 5)\n"
          ]
        }
      ],
      "source": [
        "arr = np.array([[1,2,3,4,5],[1,3,5,7,9]])\n",
        "\n",
        "print(\"It's Shape is: \", arr.shape)\n"
      ]
    },
    {
      "cell_type": "code",
      "execution_count": 10,
      "metadata": {
        "colab": {
          "base_uri": "https://localhost:8080/"
        },
        "id": "OqP2VurAjh1Q",
        "outputId": "8629bf1d-a2b3-498a-836d-4d3bbca9dd96"
      },
      "outputs": [
        {
          "name": "stdout",
          "output_type": "stream",
          "text": [
            "[[[[[1 2 3 4]]]]]\n",
            "Shape of this array is:  (1, 1, 1, 1, 4)\n"
          ]
        }
      ],
      "source": [
        "arr = np.array([1,2,3,4], ndmin=5)\n",
        "\n",
        "print(arr)\n",
        "print(\"Shape of this array is: \", arr.shape)"
      ]
    },
    {
      "cell_type": "code",
      "execution_count": 1,
      "metadata": {
        "id": "0odgoEOwD_ZX"
      },
      "outputs": [],
      "source": [
        "import numpy as np"
      ]
    },
    {
      "cell_type": "code",
      "execution_count": 2,
      "metadata": {
        "colab": {
          "base_uri": "https://localhost:8080/"
        },
        "id": "CzIgEo0sD2Lx",
        "outputId": "c8144379-9faf-479d-ac46-d7b1b9a33fc7"
      },
      "outputs": [
        {
          "name": "stdout",
          "output_type": "stream",
          "text": [
            "arr :  [ 1  2  3  4  5  6  7  8  9 10]\n",
            "new_arr1 :  [[ 1  2  3  4  5]\n",
            " [ 6  7  8  9 10]]\n",
            "new_arr2 :  [[ 1  2]\n",
            " [ 3  4]\n",
            " [ 5  6]\n",
            " [ 7  8]\n",
            " [ 9 10]]\n"
          ]
        }
      ],
      "source": [
        "# Reshape From 1-D to 2-D\n",
        "\n",
        "arr = np.array([1,2,3,4,5,6,7,8,9,10])\n",
        "\n",
        "new_arr1 = arr.reshape(2,5)\n",
        "new_arr2 = arr.reshape(5,2)\n",
        "\n",
        "print(\"arr : \",arr)\n",
        "print(\"new_arr1 : \",new_arr1)\n",
        "print(\"new_arr2 : \",new_arr2)"
      ]
    },
    {
      "cell_type": "code",
      "execution_count": 5,
      "metadata": {
        "colab": {
          "base_uri": "https://localhost:8080/"
        },
        "id": "8NNrli4OEoGo",
        "outputId": "c0237a48-17d4-402f-e4d9-d9387eacb1db"
      },
      "outputs": [
        {
          "name": "stdout",
          "output_type": "stream",
          "text": [
            "Main array :  [ 1  2  3  4  5  6  7  8  9 10 11 12]\n",
            "Reshaped array :  [[[ 1  2]\n",
            "  [ 3  4]\n",
            "  [ 5  6]]\n",
            "\n",
            " [[ 7  8]\n",
            "  [ 9 10]\n",
            "  [11 12]]]\n"
          ]
        }
      ],
      "source": [
        "# Reshape From 1-D to 3-D\n",
        "\n",
        "arr = np.array([1,2,3,4,5,6,7,8,9,10,11,12])\n",
        "\n",
        "arr1 = arr.reshape(2,3,2)\n",
        "# here, 2 arrays that contains 3 arrays, each with 2 elements\n",
        "\n",
        "print(\"Main array : \", arr)\n",
        "print(\"Reshaped array : \", arr1)"
      ]
    },
    {
      "cell_type": "code",
      "execution_count": 6,
      "metadata": {
        "colab": {
          "base_uri": "https://localhost:8080/"
        },
        "id": "DFPXqYHJN5EC",
        "outputId": "4277f176-aae1-4585-dc68-c12379fd60d4"
      },
      "outputs": [
        {
          "name": "stdout",
          "output_type": "stream",
          "text": [
            "[1 2 3 4 5 6 7 8]\n"
          ]
        }
      ],
      "source": [
        "arr = np.array([1,2,3,4,5,6,7,8])\n",
        "\n",
        "print(arr.reshape(2,4).base)"
      ]
    },
    {
      "cell_type": "code",
      "execution_count": 15,
      "metadata": {
        "colab": {
          "base_uri": "https://localhost:8080/"
        },
        "id": "BGog_v_xO-0o",
        "outputId": "01de7f5c-6cd2-4f66-b577-338880df5999"
      },
      "outputs": [
        {
          "name": "stdout",
          "output_type": "stream",
          "text": [
            "[1 2 3 4 2 3 4 5]\n"
          ]
        }
      ],
      "source": [
        "# Flattening the arrays\n",
        "\n",
        "arr = np.array([[1,2,3,4],[2,3,4,5]])\n",
        "\n",
        "new_arr = arr.reshape(-1)   #Convert the array into a 1D array\n",
        "\n",
        "print(new_arr)"
      ]
    }
  ],
  "metadata": {
    "colab": {
      "provenance": []
    },
    "kernelspec": {
      "display_name": "Python 3",
      "name": "python3"
    },
    "language_info": {
      "name": "python"
    }
  },
  "nbformat": 4,
  "nbformat_minor": 0
}
