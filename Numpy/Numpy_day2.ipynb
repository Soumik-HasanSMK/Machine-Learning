{
  "nbformat": 4,
  "nbformat_minor": 0,
  "metadata": {
    "colab": {
      "provenance": []
    },
    "kernelspec": {
      "name": "python3",
      "display_name": "Python 3"
    },
    "language_info": {
      "name": "python"
    }
  },
  "cells": [
    {
      "cell_type": "code",
      "execution_count": 1,
      "metadata": {
        "id": "214b1y1Opdgg"
      },
      "outputs": [],
      "source": [
        "import numpy as np"
      ]
    },
    {
      "cell_type": "markdown",
      "source": [
        "# Data Types in NumPy\n",
        "The NumPy array object has a property called \"dtype\" that returns the data type of the array\n",
        "\n",
        "Below is a list of all data types in NumPy and the characters used to represent them.\n",
        "\n",
        "    i - integer\n",
        "    b - boolean\n",
        "    u - unsigned integer\n",
        "    f - float\n",
        "    c - complex float\n",
        "    m - timedelta\n",
        "    M - datetime\n",
        "    O - object\n",
        "    S - string\n",
        "    U - unicode string\n",
        "    V - fixed chunk of memory for other type ( void )"
      ],
      "metadata": {
        "id": "V87MXqJup8Co"
      }
    },
    {
      "cell_type": "code",
      "source": [
        "arr = np.array([1,2,3,4,5])\n",
        "\n",
        "print(\"Data type of this array is : \", arr.dtype)"
      ],
      "metadata": {
        "colab": {
          "base_uri": "https://localhost:8080/"
        },
        "id": "JB4EW7PIp5ZI",
        "outputId": "e6202b03-5870-4c2e-baf5-c4823f736eaa"
      },
      "execution_count": 2,
      "outputs": [
        {
          "output_type": "stream",
          "name": "stdout",
          "text": [
            "Data type of this array is :  int64\n"
          ]
        }
      ]
    },
    {
      "cell_type": "code",
      "source": [
        "arr=np.array([\"apple\", \"banana\", \"orange\"])\n",
        "\n",
        "print(\"Data type of this array is : \", arr.dtype)"
      ],
      "metadata": {
        "colab": {
          "base_uri": "https://localhost:8080/"
        },
        "id": "xiBSEHKvrTaL",
        "outputId": "a1a6a381-0794-4950-e71f-4e6683ebe030"
      },
      "execution_count": 4,
      "outputs": [
        {
          "output_type": "stream",
          "name": "stdout",
          "text": [
            "Data type of this array is :  <U6\n"
          ]
        }
      ]
    },
    {
      "cell_type": "code",
      "source": [
        "arr = np.array([1,2,3,4,5], dtype=\"S\")\n",
        "\n",
        "print(arr)\n",
        "\n",
        "print(\"Data type of this array is : \", arr.dtype)\n",
        "\n",
        "# b মানে হচ্ছে \"bytes\", অর্থাৎ এই অ্যারে-র প্রতিটি উপাদান হচ্ছে bytes string (byte ধারার স্ট্রিং)।\n",
        "# |S1 = byte string dtype with length 1"
      ],
      "metadata": {
        "colab": {
          "base_uri": "https://localhost:8080/"
        },
        "id": "z_bGjWYirhY_",
        "outputId": "dca375c8-2c94-4f1d-a92a-ccf1cf1ce059"
      },
      "execution_count": 8,
      "outputs": [
        {
          "output_type": "stream",
          "name": "stdout",
          "text": [
            "[b'1' b'2' b'3' b'4' b'5']\n",
            "Data type of this array is :  |S1\n"
          ]
        }
      ]
    },
    {
      "cell_type": "code",
      "source": [
        "arr = np.array([1,2,3,4,5,6], dtype=\"i4\")   # 4 byte integer\n",
        "\n",
        "print(arr)\n",
        "print(\"Data type of this array is : \", arr.dtype)"
      ],
      "metadata": {
        "colab": {
          "base_uri": "https://localhost:8080/"
        },
        "id": "_oZKfRyVs6In",
        "outputId": "12f0f30c-4b99-4e9a-f440-8c66bb5df09d"
      },
      "execution_count": 10,
      "outputs": [
        {
          "output_type": "stream",
          "name": "stdout",
          "text": [
            "[1 2 3 4 5 6]\n",
            "Data type of this array is :  int32\n"
          ]
        }
      ]
    },
    {
      "cell_type": "markdown",
      "source": [
        "# Converting Data Type on Existing Arrays\n",
        "    The best way to change the data type of an existing array, is to make a copy of the array with the \"astype()\" method.\n",
        "\n",
        "    The \"astype()\" function creates a copy of the array, and allows you to specify the data type as a parameter.\n",
        "\n",
        "    The data type can be specified using a string, like 'f' for float, 'i' for integer etc. or you can use the data type directly like float for float and int for integer."
      ],
      "metadata": {
        "id": "ZeiaNCOEvw9d"
      }
    },
    {
      "cell_type": "code",
      "source": [
        "arr = np. array([1,2,0,4,5])\n",
        "\n",
        "new_arr1 = arr.astype('i')\n",
        "new_arr2 = arr.astype('f')\n",
        "new_arr3 = arr.astype(bool)\n",
        "\n",
        "print(new_arr1)\n",
        "print(\"new_arr1 data type: \", new_arr1.dtype)\n",
        "print(new_arr2)\n",
        "print(\"new_arr2 data type: \", new_arr2.dtype)\n",
        "print(new_arr3)\n",
        "print(\"new_arr3 data type: \", new_arr3.dtype)\n"
      ],
      "metadata": {
        "colab": {
          "base_uri": "https://localhost:8080/"
        },
        "id": "a8yb0g1HyI6M",
        "outputId": "70f142cb-19b5-4d77-ed77-6e68de1d6e9d"
      },
      "execution_count": 21,
      "outputs": [
        {
          "output_type": "stream",
          "name": "stdout",
          "text": [
            "[1 2 0 4 5]\n",
            "new_arr1 data type:  int32\n",
            "[1. 2. 0. 4. 5.]\n",
            "new_arr2 data type:  float32\n",
            "[ True  True False  True  True]\n",
            "new_arr3 data type:  bool\n"
          ]
        }
      ]
    },
    {
      "cell_type": "code",
      "source": [
        "arr = np.array([1.1, 2.2, 3.3, 4.4])\n",
        "\n",
        "new_arr = arr.astype(int)\n",
        "\n",
        "print(new_arr)\n",
        "print(\"new_arr data type: \", new_arr.dtype)"
      ],
      "metadata": {
        "colab": {
          "base_uri": "https://localhost:8080/"
        },
        "id": "F4Ua1JHeygvQ",
        "outputId": "4e962ab7-1fc2-4244-d3f2-1c3be015a6de"
      },
      "execution_count": 20,
      "outputs": [
        {
          "output_type": "stream",
          "name": "stdout",
          "text": [
            "[1 2 3 4]\n",
            "new_arr data type:  int64\n"
          ]
        }
      ]
    }
  ]
}