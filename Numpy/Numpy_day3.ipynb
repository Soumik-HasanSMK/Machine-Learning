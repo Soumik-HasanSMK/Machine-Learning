{
  "nbformat": 4,
  "nbformat_minor": 0,
  "metadata": {
    "colab": {
      "provenance": []
    },
    "kernelspec": {
      "name": "python3",
      "display_name": "Python 3"
    },
    "language_info": {
      "name": "python"
    }
  },
  "cells": [
    {
      "cell_type": "markdown",
      "source": [
        "# NumPy Array Iterating"
      ],
      "metadata": {
        "id": "eSY-HBAjWB0Q"
      }
    },
    {
      "cell_type": "code",
      "source": [
        "import numpy as np"
      ],
      "metadata": {
        "id": "6iFrCB36WIK7"
      },
      "execution_count": 1,
      "outputs": []
    },
    {
      "cell_type": "code",
      "source": [
        "arr = np.array([1,2,3,4,5,6])\n",
        "\n",
        "for x in arr:\n",
        "  print(x)"
      ],
      "metadata": {
        "colab": {
          "base_uri": "https://localhost:8080/"
        },
        "id": "XVDbSR0-WNNd",
        "outputId": "164435e4-bf56-4333-fb0a-014b40b39093"
      },
      "execution_count": 3,
      "outputs": [
        {
          "output_type": "stream",
          "name": "stdout",
          "text": [
            "1\n",
            "2\n",
            "3\n",
            "4\n",
            "5\n",
            "6\n"
          ]
        }
      ]
    },
    {
      "cell_type": "code",
      "source": [
        "# Iterating 2-D Arrays\n",
        "arr = np.array([[1,2,3,4],[5,6,7,8]])\n",
        "\n",
        "for x in arr:\n",
        "  print(x)"
      ],
      "metadata": {
        "colab": {
          "base_uri": "https://localhost:8080/"
        },
        "id": "Gkcm23p-CTt8",
        "outputId": "1652d161-e8eb-4eac-a5b5-f6775a4eaee1"
      },
      "execution_count": 3,
      "outputs": [
        {
          "output_type": "stream",
          "name": "stdout",
          "text": [
            "[1 2 3 4]\n",
            "[5 6 7 8]\n"
          ]
        }
      ]
    },
    {
      "cell_type": "code",
      "source": [
        "# Iterating 2-D Arrays\n",
        "arr= np.array([[1,2,3],[4,5,6]])\n",
        "\n",
        "for x in arr:\n",
        "  for y in x:\n",
        "    print(y)\n"
      ],
      "metadata": {
        "colab": {
          "base_uri": "https://localhost:8080/"
        },
        "id": "F9dLSNQ0WkZG",
        "outputId": "36ab5799-2735-4306-dc42-29d6783e0ee9"
      },
      "execution_count": 4,
      "outputs": [
        {
          "output_type": "stream",
          "name": "stdout",
          "text": [
            "1\n",
            "2\n",
            "3\n",
            "4\n",
            "5\n",
            "6\n"
          ]
        }
      ]
    },
    {
      "cell_type": "code",
      "source": [
        "# 3-D Array\n",
        "\n",
        "arr = np.array([[[1,2,3],[4,5,6]],[[7,8,9],[10,11,12]]])\n",
        "\n",
        "for x in arr:\n",
        "  print(x)"
      ],
      "metadata": {
        "colab": {
          "base_uri": "https://localhost:8080/"
        },
        "id": "9AH1zwV3DSdb",
        "outputId": "a9a3d8f3-1638-49c2-bb69-f4d7d6deb7e0"
      },
      "execution_count": 5,
      "outputs": [
        {
          "output_type": "stream",
          "name": "stdout",
          "text": [
            "[[1 2 3]\n",
            " [4 5 6]]\n",
            "[[ 7  8  9]\n",
            " [10 11 12]]\n"
          ]
        }
      ]
    },
    {
      "cell_type": "code",
      "source": [
        "arr = np.array([[[1,2,3],[4,5,6]],[[7,8,9],[10,11,12]]])\n",
        "\n",
        "for x in arr:\n",
        "  for y in x:\n",
        "    for z in y:\n",
        "      print(z)"
      ],
      "metadata": {
        "colab": {
          "base_uri": "https://localhost:8080/"
        },
        "id": "v3jMH1vfEn6u",
        "outputId": "0e699da4-c5e1-4d6e-beab-e75e9391d598"
      },
      "execution_count": 6,
      "outputs": [
        {
          "output_type": "stream",
          "name": "stdout",
          "text": [
            "1\n",
            "2\n",
            "3\n",
            "4\n",
            "5\n",
            "6\n",
            "7\n",
            "8\n",
            "9\n",
            "10\n",
            "11\n",
            "12\n"
          ]
        }
      ]
    },
    {
      "cell_type": "markdown",
      "source": [
        "# Iterating Arrays Using nditer()\n",
        "  The function nditer() is a helping function that can be used from very basic to very advanced iterations. It solves some basic issues which we face in iteration, lets go through it with examples.\n",
        "\n",
        "  Iterating on Each Scalar Element\n",
        "  In basic for loops, iterating through each scalar of an array we need to use n for loops which can be difficult to write for arrays with very high dimensionality."
      ],
      "metadata": {
        "id": "Sl_QUcyiFkE4"
      }
    },
    {
      "cell_type": "code",
      "source": [
        "# Iterate through the following 3-D array:\n",
        "\n",
        "arr = np.array([[[1,2],[3,4]],[[5,6],[7,8]]])\n",
        "\n",
        "for x in np.nditer(arr):\n",
        "  print(x)"
      ],
      "metadata": {
        "colab": {
          "base_uri": "https://localhost:8080/"
        },
        "id": "0Xq_knWTFtFt",
        "outputId": "33a75832-bf0b-45a5-8f25-43683dee99ca"
      },
      "execution_count": 9,
      "outputs": [
        {
          "output_type": "stream",
          "name": "stdout",
          "text": [
            "1\n",
            "2\n",
            "3\n",
            "4\n",
            "5\n",
            "6\n",
            "7\n",
            "8\n"
          ]
        }
      ]
    },
    {
      "cell_type": "markdown",
      "source": [
        "# Iterating Array With Different Data Types\n",
        "\n",
        "We can use op_dtypes argument and pass it the expected datatype to change the datatype of elements while iterating.\n",
        "\n",
        "\n",
        "NumPy does not change the data type of the element in-place (where the element is in array) so it needs some other space to perform this action, that extra space is called buffer, and in order to enable it in nditer() we pass flags=['buffered']."
      ],
      "metadata": {
        "id": "gWoot-Z1Hvru"
      }
    },
    {
      "cell_type": "code",
      "source": [
        "arr = np.array([1,2,3,4,5])\n",
        "\n",
        "for x in np.nditer(arr, flags=['buffered'], op_dtypes=['S']):\n",
        "  print(x)\n",
        "\n",
        "# here it prints byte type string"
      ],
      "metadata": {
        "colab": {
          "base_uri": "https://localhost:8080/"
        },
        "id": "Fivmer3sH_b9",
        "outputId": "20284ea8-b98f-4589-ebe4-d97aac9c1e50"
      },
      "execution_count": 11,
      "outputs": [
        {
          "output_type": "stream",
          "name": "stdout",
          "text": [
            "np.bytes_(b'1')\n",
            "np.bytes_(b'2')\n",
            "np.bytes_(b'3')\n",
            "np.bytes_(b'4')\n",
            "np.bytes_(b'5')\n"
          ]
        }
      ]
    },
    {
      "cell_type": "code",
      "source": [
        "arr = np.array([[1,2,3,4],[5,6,7,8]])\n",
        "\n",
        "for x in np.nditer(arr[ :, : : 2]):\n",
        "  print(x)\n"
      ],
      "metadata": {
        "colab": {
          "base_uri": "https://localhost:8080/"
        },
        "id": "o4BjRyKhJlqd",
        "outputId": "fbbe5682-1797-48b5-ab48-4e6fb58b4bb2"
      },
      "execution_count": 12,
      "outputs": [
        {
          "output_type": "stream",
          "name": "stdout",
          "text": [
            "1\n",
            "3\n",
            "5\n",
            "7\n"
          ]
        }
      ]
    },
    {
      "cell_type": "code",
      "source": [
        "arr = np.array([1,2,3,4,5])\n",
        "\n",
        "for idx,x in np.ndenumerate(arr):\n",
        "  print(idx,x)"
      ],
      "metadata": {
        "colab": {
          "base_uri": "https://localhost:8080/"
        },
        "id": "L_dQh1bRVpQ6",
        "outputId": "545a3137-fe32-4de4-bf61-f9a3b442fe39"
      },
      "execution_count": 13,
      "outputs": [
        {
          "output_type": "stream",
          "name": "stdout",
          "text": [
            "(0,) 1\n",
            "(1,) 2\n",
            "(2,) 3\n",
            "(3,) 4\n",
            "(4,) 5\n"
          ]
        }
      ]
    },
    {
      "cell_type": "code",
      "source": [
        "arr=np.array([[1,2,3,4],[5,6,7,8]])\n",
        "\n",
        "for idx,x in np.ndenumerate(arr):\n",
        "  print(idx,x)"
      ],
      "metadata": {
        "colab": {
          "base_uri": "https://localhost:8080/"
        },
        "id": "9qg43mTOWa_2",
        "outputId": "e7d0cf43-cdd9-455d-fd9b-f184d5e7be72"
      },
      "execution_count": 15,
      "outputs": [
        {
          "output_type": "stream",
          "name": "stdout",
          "text": [
            "(0, 0) 1\n",
            "(0, 1) 2\n",
            "(0, 2) 3\n",
            "(0, 3) 4\n",
            "(1, 0) 5\n",
            "(1, 1) 6\n",
            "(1, 2) 7\n",
            "(1, 3) 8\n"
          ]
        }
      ]
    }
  ]
}